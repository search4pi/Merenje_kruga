{
 "cells": [
  {
   "cell_type": "code",
   "execution_count": 2,
   "id": "1c544395",
   "metadata": {},
   "outputs": [],
   "source": [
    "import pandas as pd\n",
    "from rzlmk import Razlomak"
   ]
  },
  {
   "cell_type": "markdown",
   "id": "3f3b936b",
   "metadata": {},
   "source": [
    "# Теорема 3\n",
    "## 1. Први део - описани многоугао\n",
    "\n",
    "Поступак рачуна многоугла почиње од шестоугла и број страница се у сваком кораку удвостручава.  \n",
    "\n",
    "$$\\begin{aligned}\n",
    "& \\text {Таблица 1.1. Описани многоугао }\\\\\n",
    "&\\begin{array}{cccc}\n",
    "\\hline \\hline n & 3 \\cdot {2}^{n} & A_n & B_n & \\text C_n \\\\\n",
    "\\hline 1 & 6 & 153 & 265 & 306 \\\\\n",
    "2 & 12 & 153 & 571 & 591+ {1 \\over 8} \\\\\n",
    "3 & 24 & 153 & 1162+{1 \\over 8} & 1172+{1 \\over 8} \\\\\n",
    "4 & 48 & 153 & 2334+{1 \\over 4} & 2339+{1 \\over 4} \\\\\n",
    "5 & 96 & 153 & 4673+{1 \\over 2} &  \\\\\n",
    "\\hline\n",
    "\\end{array}\n",
    "\\end{aligned}$$\n",
    "  \n",
    "где су почетне вредности $(A_1, B_1, C_1) = (1, \\sqrt{3}, 2)$ однос страница код половине једнакостраничног троугла, с тим што је овде Архимед одабрао да је $\\sqrt{3} = {265 \\over 153}$.\n",
    "\n",
    "Поступак који се понавља у сваком следећем реду:\n",
    "\\begin{align}\n",
    "A_{n+1} & = A_n, \\\\\n",
    "B_{n+1} & = A_n+B_n, \\\\\n",
    "C_{n+1} & = \\sqrt{A_n^2+B_n^2}\n",
    "\\end{align}\n",
    "\n",
    "Није познато да ли је Архимед користио најобичније половљење опсега као начин рачуна квадратног корена али резултати се поклапају као да је користио половљење у три корака.\n",
    "\n",
    "_нота: математички се броји од 1 до 5, а пајтон и јупитер индекси су од 0 до 4_"
   ]
  },
  {
   "cell_type": "code",
   "execution_count": 8,
   "id": "902651e4",
   "metadata": {
    "scrolled": true
   },
   "outputs": [
    {
     "data": {
      "text/html": [
       "<style type=\"text/css\">\n",
       "#T_9c6d8 th.col_heading {\n",
       "  text-align: center;\n",
       "  font-size: 1.5em;\n",
       "}\n",
       "#T_9c6d8 td {\n",
       "  text-align: right;\n",
       "  width: 24%;\n",
       "}\n",
       "</style>\n",
       "<table id=\"T_9c6d8\">\n",
       "  <thead>\n",
       "    <tr>\n",
       "      <th class=\"blank level0\" >&nbsp;</th>\n",
       "      <th id=\"T_9c6d8_level0_col0\" class=\"col_heading level0 col0\" >$3 \\cdot 2^n$</th>\n",
       "      <th id=\"T_9c6d8_level0_col1\" class=\"col_heading level0 col1\" >$A_n$</th>\n",
       "      <th id=\"T_9c6d8_level0_col2\" class=\"col_heading level0 col2\" >$B_n$</th>\n",
       "      <th id=\"T_9c6d8_level0_col3\" class=\"col_heading level0 col3\" >$C_n$</th>\n",
       "    </tr>\n",
       "  </thead>\n",
       "  <tbody>\n",
       "    <tr>\n",
       "      <th id=\"T_9c6d8_level0_row0\" class=\"row_heading level0 row0\" >0</th>\n",
       "      <td id=\"T_9c6d8_row0_col0\" class=\"data row0 col0\" >6</td>\n",
       "      <td id=\"T_9c6d8_row0_col1\" class=\"data row0 col1\" >153</td>\n",
       "      <td id=\"T_9c6d8_row0_col2\" class=\"data row0 col2\" >265  </td>\n",
       "      <td id=\"T_9c6d8_row0_col3\" class=\"data row0 col3\" >306  </td>\n",
       "    </tr>\n",
       "    <tr>\n",
       "      <th id=\"T_9c6d8_level0_row1\" class=\"row_heading level0 row1\" >1</th>\n",
       "      <td id=\"T_9c6d8_row1_col0\" class=\"data row1 col0\" >12</td>\n",
       "      <td id=\"T_9c6d8_row1_col1\" class=\"data row1 col1\" >153</td>\n",
       "      <td id=\"T_9c6d8_row1_col2\" class=\"data row1 col2\" >571  </td>\n",
       "      <td id=\"T_9c6d8_row1_col3\" class=\"data row1 col3\" >$591+\\frac{1}{8}$</td>\n",
       "    </tr>\n",
       "    <tr>\n",
       "      <th id=\"T_9c6d8_level0_row2\" class=\"row_heading level0 row2\" >2</th>\n",
       "      <td id=\"T_9c6d8_row2_col0\" class=\"data row2 col0\" >24</td>\n",
       "      <td id=\"T_9c6d8_row2_col1\" class=\"data row2 col1\" >153</td>\n",
       "      <td id=\"T_9c6d8_row2_col2\" class=\"data row2 col2\" >$1162+\\frac{1}{8}$</td>\n",
       "      <td id=\"T_9c6d8_row2_col3\" class=\"data row2 col3\" >$1172+\\frac{1}{8}$</td>\n",
       "    </tr>\n",
       "    <tr>\n",
       "      <th id=\"T_9c6d8_level0_row3\" class=\"row_heading level0 row3\" >3</th>\n",
       "      <td id=\"T_9c6d8_row3_col0\" class=\"data row3 col0\" >48</td>\n",
       "      <td id=\"T_9c6d8_row3_col1\" class=\"data row3 col1\" >153</td>\n",
       "      <td id=\"T_9c6d8_row3_col2\" class=\"data row3 col2\" >$2334+\\frac{1}{4}$</td>\n",
       "      <td id=\"T_9c6d8_row3_col3\" class=\"data row3 col3\" >$2339+\\frac{1}{4}$</td>\n",
       "    </tr>\n",
       "    <tr>\n",
       "      <th id=\"T_9c6d8_level0_row4\" class=\"row_heading level0 row4\" >4</th>\n",
       "      <td id=\"T_9c6d8_row4_col0\" class=\"data row4 col0\" >96</td>\n",
       "      <td id=\"T_9c6d8_row4_col1\" class=\"data row4 col1\" >153</td>\n",
       "      <td id=\"T_9c6d8_row4_col2\" class=\"data row4 col2\" >$4673+\\frac{1}{2}$</td>\n",
       "      <td id=\"T_9c6d8_row4_col3\" class=\"data row4 col3\" >4676  </td>\n",
       "    </tr>\n",
       "  </tbody>\n",
       "</table>\n"
      ],
      "text/plain": [
       "<pandas.io.formats.style.Styler at 0x7f7697703ee0>"
      ]
     },
     "execution_count": 8,
     "metadata": {},
     "output_type": "execute_result"
    }
   ],
   "source": [
    "# Простор за експериментисање (мењати почетни разломак и број корака)\n",
    "BROJ_KORAKA=4            # нема смисла мање од 4 корака, више од 5 зависи од почетног разломка\n",
    "sqrt3=Razlomak (265,153) # (168,97),(265, 153),(627,362),(989,571),(2340,1351),(3691,2131)\n",
    "mtd=\"pola_donja\"         # метода рачуна корена је египатска, половљењем интервала на два\n",
    "krc=3                    # број корака итерације, код половљења се са 3 стиже до 1/8\n",
    "\n",
    "def opisani_mnogougao (broj_polovljenja,koren_iz_3,metoda,broj_koraka):\n",
    "    # Иницијализација\n",
    "    a_1=koren_iz_3.imenilac()\n",
    "    b_n=Razlomak(koren_iz_3.brojilac())\n",
    "    c_n=Razlomak(2*a_1)\n",
    "\n",
    "    a=[a_1]\n",
    "    b=[b_n]\n",
    "    c=[c_n]\n",
    "\n",
    "    # Поступак\n",
    "    for i in range(broj_polovljenja):\n",
    "        b_n=c_n+b_n\n",
    "        c_n=(b_n**2+a_1**2).koren(metod=metoda, koraci=broj_koraka)\n",
    "        a.append(a_1)\n",
    "        b.append(b_n)\n",
    "        c.append(c_n)\n",
    "\n",
    "    return a,b,c\n",
    "\n",
    "a,b,c = opisani_mnogougao (BROJ_KORAKA,sqrt3,mtd,krc)\n",
    "\n",
    "# приказивање таблице 1\n",
    "tablica={r\"$3 \\cdot 2^n$\":[3*2**(i+1) for i in range (BROJ_KORAKA+1)], \"$A_n$\":a, \"$B_n$\":b, \"$C_n$\":c}\n",
    "df=pd.DataFrame(tablica)\n",
    "df.style.set_table_styles([ {'selector': 'th.col_heading', 'props': 'text-align: center; font-size: 1.5em;'}, \n",
    "                            {'selector': 'td',             'props': 'text-align: right;  width:24%;'},\n",
    "                          ], overwrite=False)"
   ]
  },
  {
   "cell_type": "code",
   "execution_count": 4,
   "id": "08107f4c",
   "metadata": {},
   "outputs": [
    {
     "data": {
      "text/latex": [
       "$$\\pi \\approx 96 \\cdot {A_5 \\over B_5} = {29376 \\over 9347} = 3+{1335 \\over 9347}$$"
      ],
      "text/plain": [
       "<IPython.core.display.Latex object>"
      ]
     },
     "metadata": {},
     "output_type": "display_data"
    }
   ],
   "source": [
    "from IPython.display import display, Latex\n",
    "pi = Razlomak(a[BROJ_KORAKA]*3*2**(BROJ_KORAKA+1))/b[BROJ_KORAKA]\n",
    "t,x,y,z,u,v=f\"{3*2**(BROJ_KORAKA+1)}\", f\"{BROJ_KORAKA+1}\", f\"{pi.brojilac()}\", f\"{pi.imenilac()}\", f\"{pi.ceo_deo()}\", f\"{pi.razl_deo().brojilac()}\"\n",
    "bp,ba,bc,bo=r\"\\pi\",r\"\\approx\", r\"\\cdot\", r\"\\over\"\n",
    "xstr=f\"$${bp} {ba} {t} {bc} {{A_{x} {bo} B_{x}}} = {{{y} {bo} {z}}} = {u}+{{{v} {bo} {z}}}$$\"\n",
    "\n",
    "display(Latex(data=xstr))"
   ]
  },
  {
   "cell_type": "markdown",
   "id": "704a5251",
   "metadata": {},
   "source": [
    "Резултат рачуна односа обима описаног правилног многоугла и пречника круга око кога је описан овај многоугао је код Архимеда следећи разломак  \n",
    "\n",
    "$$\\pi \\approx 96 \\cdot {A_5 \\over B_5} = {29376 \\over 9347} = 3 + {1335 \\over 9347}$$\n",
    "\n",
    "који се може поједноставити, односно уместо њега користити разломак коме је мањи именилац, али је и даље већи од $\\pi$ и од овог полазног разломка.\n",
    "\n",
    "Ако се овај разломак напише у облику верижног разломка види се зашто је 3+1/7 изузетно добра апроксимација. Задавањем другачијих почетних услова је могуће добити и другачије разломке."
   ]
  },
  {
   "cell_type": "code",
   "execution_count": 5,
   "id": "f7439b6a",
   "metadata": {},
   "outputs": [
    {
     "data": {
      "text/latex": [
       "\\begin{equation}\\cfrac{29376}{9347} = 3+\\cfrac{1}{7+\\cfrac{1}{667+\\cfrac{1}{2}}}\\end{equation}"
      ],
      "text/plain": [
       "<IPython.core.display.Latex object>"
      ]
     },
     "metadata": {},
     "output_type": "display_data"
    }
   ],
   "source": [
    "r=pi.verizni_latex()\n",
    "\n",
    "display(Latex(data=r))"
   ]
  },
  {
   "cell_type": "code",
   "execution_count": null,
   "id": "10633b09",
   "metadata": {},
   "outputs": [],
   "source": []
  }
 ],
 "metadata": {
  "kernelspec": {
   "display_name": "Python 3 (ipykernel)",
   "language": "python",
   "name": "python3"
  },
  "language_info": {
   "codemirror_mode": {
    "name": "ipython",
    "version": 3
   },
   "file_extension": ".py",
   "mimetype": "text/x-python",
   "name": "python",
   "nbconvert_exporter": "python",
   "pygments_lexer": "ipython3",
   "version": "3.9.5"
  }
 },
 "nbformat": 4,
 "nbformat_minor": 5
}

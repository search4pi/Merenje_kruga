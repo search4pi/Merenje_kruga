{
 "cells": [
  {
   "cell_type": "code",
   "execution_count": 1,
   "id": "1c544395",
   "metadata": {},
   "outputs": [],
   "source": [
    "import pandas as pd\n",
    "from IPython.display import display, Latex\n",
    "from rzlmk import Razlomak"
   ]
  },
  {
   "cell_type": "markdown",
   "id": "3f3b936b",
   "metadata": {},
   "source": [
    "# Теорема 3\n",
    "## 1. Други део - уписани многоугао\n",
    "\n",
    "Поступак рачуна многоугла почиње од уписаног шестоугла и број страница се у сваком кораку удвостручава.  \n",
    "\n",
    "$$\\begin{aligned}\n",
    "& \\text {Таблица 1.2. Уписани многоугао }\\\\\n",
    "&\\begin{array}{cccc}\n",
    "\\hline \\hline n & 3 \\cdot {2}^{n} & A_n & B_n & \\text C_n \\\\\n",
    "\\hline 1 & 6 & 780 & 1351 & 1560 \\\\\n",
    "2 & 12 & 780 & 2911 & 3013+ {3 \\over 4} \\\\\n",
    "3 & 24 & 780 & 5294+{3 \\over 4} & { } \\\\\n",
    "{ } & { } & 240 & 1823 & 1838+{9 \\over 11} \\\\\n",
    "4 & 48 & 240 & 3661+{9 \\over 11} & { } \\\\\n",
    "{ } & { } & 66 & 1007 & 1009+{1 \\over 6} \\\\\n",
    "5 & 96 & 66 & 2016+{1 \\over 6} & 2017+{1 \\over 4} \\\\\n",
    "\\hline\n",
    "\\end{array}\n",
    "\\end{aligned}$$\n",
    "  \n",
    "где су почетне вредности $(A_1, B_1, C_1) = (1, \\sqrt{3}, 2)$ однос страница код половине једнакостраничног троугла, с тим што је овде Архимед одабрао да је $\\sqrt{3} = {1351 \\over 780}$.\n",
    "\n",
    "Поступак који се понавља у сваком следећем реду:\n",
    "\\begin{align}\n",
    "A_{n+1} & = A_n, \\\\\n",
    "B_{n+1} & = A_n+B_n, \\\\\n",
    "C_{n+1} & = \\sqrt{A_n^2+B_n^2}\n",
    "\\end{align}\n",
    "\n",
    "Овде је очигледно да рачун квадратних коренова није рађен методом половљења јер се 1/6 и 9/11 не когу добити као резултати таквог поступка. \n",
    "\n",
    "_нота: математички се броји од 1 до 5, а пајтон и јупитер индекси су од 0 до 4_"
   ]
  },
  {
   "cell_type": "code",
   "execution_count": 5,
   "id": "902651e4",
   "metadata": {
    "scrolled": true
   },
   "outputs": [
    {
     "data": {
      "text/html": [
       "<style type=\"text/css\">\n",
       "#T_a61da th.col_heading {\n",
       "  text-align: center;\n",
       "  font-size: 1.5em;\n",
       "}\n",
       "#T_a61da td {\n",
       "  text-align: right;\n",
       "  width: 24%;\n",
       "}\n",
       "</style>\n",
       "<table id=\"T_a61da\">\n",
       "  <thead>\n",
       "    <tr>\n",
       "      <th class=\"blank level0\" >&nbsp;</th>\n",
       "      <th id=\"T_a61da_level0_col0\" class=\"col_heading level0 col0\" >$3 \\cdot 2^n$</th>\n",
       "      <th id=\"T_a61da_level0_col1\" class=\"col_heading level0 col1\" >$A_n$</th>\n",
       "      <th id=\"T_a61da_level0_col2\" class=\"col_heading level0 col2\" >$B_n$</th>\n",
       "      <th id=\"T_a61da_level0_col3\" class=\"col_heading level0 col3\" >$C_n$</th>\n",
       "    </tr>\n",
       "  </thead>\n",
       "  <tbody>\n",
       "    <tr>\n",
       "      <th id=\"T_a61da_level0_row0\" class=\"row_heading level0 row0\" >0</th>\n",
       "      <td id=\"T_a61da_row0_col0\" class=\"data row0 col0\" >6</td>\n",
       "      <td id=\"T_a61da_row0_col1\" class=\"data row0 col1\" >780</td>\n",
       "      <td id=\"T_a61da_row0_col2\" class=\"data row0 col2\" >1351  </td>\n",
       "      <td id=\"T_a61da_row0_col3\" class=\"data row0 col3\" >1560  </td>\n",
       "    </tr>\n",
       "    <tr>\n",
       "      <th id=\"T_a61da_level0_row1\" class=\"row_heading level0 row1\" >1</th>\n",
       "      <td id=\"T_a61da_row1_col0\" class=\"data row1 col0\" >12</td>\n",
       "      <td id=\"T_a61da_row1_col1\" class=\"data row1 col1\" >780</td>\n",
       "      <td id=\"T_a61da_row1_col2\" class=\"data row1 col2\" >2911  </td>\n",
       "      <td id=\"T_a61da_row1_col3\" class=\"data row1 col3\" >$3013+\\frac{3}{4}$</td>\n",
       "    </tr>\n",
       "    <tr>\n",
       "      <th id=\"T_a61da_level0_row2\" class=\"row_heading level0 row2\" >2</th>\n",
       "      <td id=\"T_a61da_row2_col0\" class=\"data row2 col0\" >24</td>\n",
       "      <td id=\"T_a61da_row2_col1\" class=\"data row2 col1\" >780</td>\n",
       "      <td id=\"T_a61da_row2_col2\" class=\"data row2 col2\" >$5924+\\frac{3}{4}$</td>\n",
       "      <td id=\"T_a61da_row2_col3\" class=\"data row2 col3\" ></td>\n",
       "    </tr>\n",
       "    <tr>\n",
       "      <th id=\"T_a61da_level0_row3\" class=\"row_heading level0 row3\" >3</th>\n",
       "      <td id=\"T_a61da_row3_col0\" class=\"data row3 col0\" ></td>\n",
       "      <td id=\"T_a61da_row3_col1\" class=\"data row3 col1\" >240  </td>\n",
       "      <td id=\"T_a61da_row3_col2\" class=\"data row3 col2\" >1823  </td>\n",
       "      <td id=\"T_a61da_row3_col3\" class=\"data row3 col3\" >$1838+\\frac{3}{4}$</td>\n",
       "    </tr>\n",
       "    <tr>\n",
       "      <th id=\"T_a61da_level0_row4\" class=\"row_heading level0 row4\" >4</th>\n",
       "      <td id=\"T_a61da_row4_col0\" class=\"data row4 col0\" >48</td>\n",
       "      <td id=\"T_a61da_row4_col1\" class=\"data row4 col1\" >240  </td>\n",
       "      <td id=\"T_a61da_row4_col2\" class=\"data row4 col2\" >$3661+\\frac{3}{4}$</td>\n",
       "      <td id=\"T_a61da_row4_col3\" class=\"data row4 col3\" ></td>\n",
       "    </tr>\n",
       "    <tr>\n",
       "      <th id=\"T_a61da_level0_row5\" class=\"row_heading level0 row5\" >5</th>\n",
       "      <td id=\"T_a61da_row5_col0\" class=\"data row5 col0\" ></td>\n",
       "      <td id=\"T_a61da_row5_col1\" class=\"data row5 col1\" >66  </td>\n",
       "      <td id=\"T_a61da_row5_col2\" class=\"data row5 col2\" >$1006+\\frac{157}{160}$</td>\n",
       "      <td id=\"T_a61da_row5_col3\" class=\"data row5 col3\" >$1009+\\frac{1}{4}$</td>\n",
       "    </tr>\n",
       "    <tr>\n",
       "      <th id=\"T_a61da_level0_row6\" class=\"row_heading level0 row6\" >6</th>\n",
       "      <td id=\"T_a61da_row6_col0\" class=\"data row6 col0\" >96</td>\n",
       "      <td id=\"T_a61da_row6_col1\" class=\"data row6 col1\" >66  </td>\n",
       "      <td id=\"T_a61da_row6_col2\" class=\"data row6 col2\" >$2016+\\frac{37}{160}$</td>\n",
       "      <td id=\"T_a61da_row6_col3\" class=\"data row6 col3\" >$2017+\\frac{3}{8}$</td>\n",
       "    </tr>\n",
       "  </tbody>\n",
       "</table>\n"
      ],
      "text/plain": [
       "<pandas.io.formats.style.Styler at 0x7f6684e25af0>"
      ]
     },
     "execution_count": 5,
     "metadata": {},
     "output_type": "execute_result"
    }
   ],
   "source": [
    "# Простор за експериментисање (мењати почетни разломак и број корака)\n",
    "BROJ_KORAKA=4             # нема смисла мање од 4 корака, више од 5 зависи од почетног разломка\n",
    "sqrt3=Razlomak (1351,780) # (97,56),(362,209),(1351,780),(5042,2911)\n",
    "mtd=\"pola_gornja\"         # метода рачуна корена може бити\n",
    "krc=3                     # број корака итерације, код половљења се са 3 стиже до 1/8\n",
    "\n",
    "# Иницијализација\n",
    "nn_poslednji = 6\n",
    "an_poslednji = sqrt3.imenilac()\n",
    "bn_poslednji = Razlomak(sqrt3.brojilac())\n",
    "cn_poslednji = Razlomak(2*an_poslednji)\n",
    "\n",
    "nn = [nn_poslednji]\n",
    "an = [an_poslednji]\n",
    "bn = [bn_poslednji]\n",
    "cn = [cn_poslednji]\n",
    "\n",
    "# Поступак  [1, Razlomak(4,13), 1, 1]\n",
    "n_koef = [1, Razlomak(4,13), Razlomak(11,40) , 1] # ako BROJ_KORAKA nije 4 onda se namesta\n",
    "for koef in n_koef:\n",
    "    nn_poslednji = nn_poslednji*2\n",
    "    nn.append(nn_poslednji)\n",
    "    an.append(an_poslednji)\n",
    "    \n",
    "    bn_poslednji = bn_poslednji + cn_poslednji\n",
    "    bn.append(bn_poslednji)\n",
    "    \n",
    "    if koef!=1:\n",
    "        cn.append(\"\")\n",
    "        nn.append(\"\")\n",
    "        an_poslednji = koef * an_poslednji\n",
    "        an.append(an_poslednji)\n",
    "        \n",
    "        bn_poslednji = koef * bn_poslednji\n",
    "        bn.append(bn_poslednji)\n",
    "    cn_poslednji = (bn_poslednji**2+an_poslednji**2).koren(metod=mtd, koraci=krc)\n",
    "    cn.append(cn_poslednji)\n",
    "    \n",
    "# приказивање таблице 2\n",
    "tablica={r\"$3 \\cdot 2^n$\":nn, \"$A_n$\":an, \"$B_n$\":bn, \"$C_n$\":cn}\n",
    "df=pd.DataFrame(tablica)\n",
    "df.style.set_table_styles([ {'selector': 'th.col_heading', 'props': 'text-align: center; font-size: 1.5em;'}, \n",
    "                            {'selector': 'td',             'props': 'text-align: right;  width:24%;'},\n",
    "                          ], overwrite=False)"
   ]
  },
  {
   "cell_type": "code",
   "execution_count": 3,
   "id": "08107f4c",
   "metadata": {},
   "outputs": [
    {
     "data": {
      "text/latex": [
       "$$\\pi \\approx 96 \\cdot {A_5 \\over B_5} = {92160 \\over 29357} = 3+{4089 \\over 29357}$$"
      ],
      "text/plain": [
       "<IPython.core.display.Latex object>"
      ]
     },
     "metadata": {},
     "output_type": "display_data"
    }
   ],
   "source": [
    "pi = (an[BROJ_KORAKA]*3*2**(BROJ_KORAKA))/cn[BROJ_KORAKA]\n",
    "t,x,y,z,u,v=f\"{3*2**(BROJ_KORAKA+1)}\", f\"{BROJ_KORAKA+1}\", f\"{pi.brojilac()}\", f\"{pi.imenilac()}\", f\"{pi.ceo_deo()}\", f\"{pi.razl_deo().brojilac()}\"\n",
    "bp,ba,bc,bo=r\"\\pi\",r\"\\approx\", r\"\\cdot\", r\"\\over\"\n",
    "xstr=f\"$${bp} {ba} {t} {bc} {{A_{x} {bo} B_{x}}} = {{{y} {bo} {z}}} = {u}+{{{v} {bo} {z}}}$$\"\n",
    "display(Latex(data=xstr))"
   ]
  },
  {
   "cell_type": "markdown",
   "id": "704a5251",
   "metadata": {},
   "source": [
    "Резултат рачуна односа обима описаног многоугла и пречника круга око кога је описан овај многоугао је код Архимеда следећи разломак  \n",
    "\n",
    "$$\\pi \\approx 96 \\cdot {A_5 \\over B_5} = {29376 \\over 9347} = 3 + {1335 \\over 9347}$$\n",
    "\n",
    "који се може поједноставити, односно уместо њега користити разломак коме је мањи именилац, али је и даље већи од $\\pi$ и од овог полазног разломка.\n",
    "\n",
    "Ако се овај разломак напише у облику верижног разломка види се зашто је 3+1/7 изузетно добра апроксимација. Задавањем другачијих почетних услова је могуће добити и другачије разломке."
   ]
  },
  {
   "cell_type": "code",
   "execution_count": 4,
   "id": "f7439b6a",
   "metadata": {},
   "outputs": [
    {
     "data": {
      "text/latex": [
       "\\begin{equation}\\cfrac{92160}{29357} = 3+\\cfrac{1}{7+\\cfrac{1}{5+\\cfrac{1}{1+\\cfrac{1}{1+\\cfrac{1}{3+\\cfrac{1}{34+\\cfrac{1}{1+\\cfrac{1}{2}}}}}}}}\\end{equation}"
      ],
      "text/plain": [
       "<IPython.core.display.Latex object>"
      ]
     },
     "metadata": {},
     "output_type": "display_data"
    }
   ],
   "source": [
    "r=pi.verizni_latex()\n",
    "display(Latex(data=r))"
   ]
  },
  {
   "cell_type": "code",
   "execution_count": null,
   "id": "10633b09",
   "metadata": {},
   "outputs": [],
   "source": []
  }
 ],
 "metadata": {
  "kernelspec": {
   "display_name": "Python 3 (ipykernel)",
   "language": "python",
   "name": "python3"
  },
  "language_info": {
   "codemirror_mode": {
    "name": "ipython",
    "version": 3
   },
   "file_extension": ".py",
   "mimetype": "text/x-python",
   "name": "python",
   "nbconvert_exporter": "python",
   "pygments_lexer": "ipython3",
   "version": "3.9.5"
  }
 },
 "nbformat": 4,
 "nbformat_minor": 5
}
